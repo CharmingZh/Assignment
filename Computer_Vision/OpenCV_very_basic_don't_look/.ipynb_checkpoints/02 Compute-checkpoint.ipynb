{
 "cells": [
  {
   "cell_type": "code",
   "execution_count": 3,
   "metadata": {
    "collapsed": true
   },
   "outputs": [],
   "source": [
    "import cv2\n",
    "import matplotlib.pyplot as plt\n",
    "import numpy as np\n",
    "%matplotlib inline\n",
    "\n",
    "def show(img):\n",
    "    cv2.imshow('test', img)\n",
    "    cv2.waitKey(0)\n",
    "    cv2.destroyAllWindows()"
   ]
  },
  {
   "cell_type": "code",
   "execution_count": 20,
   "metadata": {
    "pycharm": {
     "name": "#%%\n"
    }
   },
   "outputs": [],
   "source": [
    "img_stand = cv2.imread('data/test.png')\n",
    "img_smile = cv2.imread('smile.png')\n",
    "img_smile = cv2.resize(img_smile, (1080, 1478))"
   ]
  },
  {
   "cell_type": "code",
   "execution_count": 23,
   "metadata": {
    "pycharm": {
     "name": "#%%\n"
    }
   },
   "outputs": [
    {
     "name": "stderr",
     "output_type": "stream",
     "text": [
      "2022-03-02 18:01:14.536 python[11701:163074] _TIPropertyValueIsValid called with 4 on nil context!\n",
      "2022-03-02 18:01:14.536 python[11701:163074] imkxpc_getApplicationProperty:reply: called with incorrect property value 4, bailing.\n",
      "2022-03-02 18:01:14.536 python[11701:163074] Text input context does not respond to _valueForTIProperty:\n",
      "2022-03-02 18:01:14.536 python[11701:163074] _TIPropertyValueIsValid called with 4 on nil context!\n",
      "2022-03-02 18:01:14.536 python[11701:163074] imkxpc_getApplicationProperty:reply: called with incorrect property value 4, bailing.\n",
      "2022-03-02 18:01:14.536 python[11701:163074] Text input context does not respond to _valueForTIProperty:\n"
     ]
    }
   ],
   "source": [
    "add_weight = cv2.addWeighted(img_smile, 0.4, img_stand, 0.7, 0.5)\n",
    "show(add_weight)"
   ]
  }
 ],
 "metadata": {
  "kernelspec": {
   "display_name": "Python 3 (ipykernel)",
   "language": "python",
   "name": "python3"
  },
  "language_info": {
   "codemirror_mode": {
    "name": "ipython",
    "version": 3
   },
   "file_extension": ".py",
   "mimetype": "text/x-python",
   "name": "python",
   "nbconvert_exporter": "python",
   "pygments_lexer": "ipython3",
   "version": "3.9.10"
  },
  "toc": {
   "base_numbering": 1,
   "nav_menu": {},
   "number_sections": true,
   "sideBar": true,
   "skip_h1_title": false,
   "title_cell": "Table of Contents",
   "title_sidebar": "Contents",
   "toc_cell": false,
   "toc_position": {},
   "toc_section_display": true,
   "toc_window_display": false
  }
 },
 "nbformat": 4,
 "nbformat_minor": 1
}
