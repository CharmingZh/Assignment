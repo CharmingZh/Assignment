{
 "cells": [
  {
   "cell_type": "code",
   "execution_count": 1,
   "metadata": {},
   "outputs": [],
   "source": [
    "import sys\n",
    "import cv2\n",
    "import matplotlib.pyplot as plt\n",
    "import numpy as np\n",
    "import math\n",
    "%matplotlib inline\n",
    "\n",
    "def readRGB(filename: str):\n",
    "    # 读入一个 RGB 图像\n",
    "    blue, green, red = cv2.split(\n",
    "        cv2.imread(filename)\n",
    "    )\n",
    "    return cv2.merge((red, green, blue))\n",
    "\n",
    "def readGRAY(filename: str):\n",
    "    # 读入一个单通道灰度图\n",
    "    return cv2.cvtColor(\n",
    "        readRGB(filename),\n",
    "        cv2.COLOR_BGR2GRAY\n",
    "    )\n",
    "\n",
    "def show_gray(pic):\n",
    "    plt.imshow(pic, cmap = 'gray')\n",
    "\n",
    "def show(pic_1, pic_2=None, pic_3=None, msg=\"Ori\", msg_2=\"show\", msg_3=\"show\"):\n",
    "    if pic_3 is None:\n",
    "        if pic_2 is None:\n",
    "            plt.imshow(pic_1, cmap='gray')\n",
    "            plt.title(msg)\n",
    "            plt.xticks([])\n",
    "            plt.yticks([])\n",
    "            return\n",
    "        else:\n",
    "            plt.subplot(121)\n",
    "            plt.imshow(pic_1, cmap='gray')\n",
    "            plt.title(msg)\n",
    "            plt.xticks([])\n",
    "            plt.yticks([])\n",
    "            plt.subplot(122)\n",
    "            plt.imshow(pic_2, cmap='gray')\n",
    "            plt.title(msg_2)\n",
    "            plt.xticks([])\n",
    "            plt.yticks([])\n",
    "    else:\n",
    "        plt.subplot(131)\n",
    "        plt.imshow(pic_1, cmap='gray')\n",
    "        plt.title(msg)\n",
    "        plt.xticks([])\n",
    "        plt.yticks([])\n",
    "        plt.subplot(132)\n",
    "        plt.imshow(pic_2, cmap='gray')\n",
    "        plt.title(msg_2)\n",
    "        plt.xticks([])\n",
    "        plt.yticks([])\n",
    "        plt.subplot(133)\n",
    "        plt.imshow(pic_3, cmap='gray')\n",
    "        plt.title(msg_3)\n",
    "        plt.xticks([])\n",
    "        plt.yticks([])\n",
    "    plt.savefig('show_out_test.png', dpi=500)"
   ]
  },
  {
   "cell_type": "markdown",
   "metadata": {
    "pycharm": {
     "name": "#%% md\n"
    }
   },
   "source": [
    "# Ohta 自适应阈值 二值化图像"
   ]
  },
  {
   "cell_type": "code",
   "execution_count": 2,
   "metadata": {
    "pycharm": {
     "name": "#%%\n"
    }
   },
   "outputs": [],
   "source": [
    "def cal(pic, T):\n",
    "    row, col = pic.shape\n",
    "    high = low = 0\n",
    "    n_high = n_low = 0\n",
    "    # 遍历图像，大于阈值者，计算像素值和、计数值增一\n",
    "    for i in range (row):\n",
    "        for j in range (col):\n",
    "            if pic[i, j] > T:\n",
    "                high += pic[i, j]\n",
    "                n_high += 1\n",
    "            else:\n",
    "                low += pic[i, j]\n",
    "                n_low += 1\n",
    "    # 平均像素灰度值，像素和 / 计数\n",
    "    m1 = int(high / n_high)\n",
    "    m2 = int(low / n_low)\n",
    "    return int((m1 + m2) / 2)   # 据公式计算新的阈值\n",
    "\n",
    "def ohta(img, T):\n",
    "    row, col = img.shape\n",
    "    img1 = np.zeros((row, col), np.uint8)\n",
    "    T0 = T\n",
    "    T1 = cal(img, T0)\n",
    "    for k in range (100):   # 迭代次数为经验值，可据实际情况选定\n",
    "        print(\"This is \", k, \" times iteration. T = \", T1)\n",
    "        if abs(T1 - T0) == 0:   # 若新阈值减旧阈值差值为零，则为二值图最佳阈值\n",
    "            for i in range (row):\n",
    "                for j in range (col):\n",
    "                    if img[i, j] > T1:\n",
    "                        img1[i, j] = 0\n",
    "                    else:\n",
    "                        img1[i, j] = 255\n",
    "            break\n",
    "        else:\n",
    "            T2 = cal(img, T1)\n",
    "            T0 = T1\n",
    "            T1 = T2   # 变量转换，保证if条件为新阈值减旧阈值\n",
    "    print(\"[FINISH]  ohta() success\")\n",
    "    return img1\n",
    "\n",
    "\n",
    "def ohta_2(img, T):\n",
    "    row, col = img.shape\n",
    "    img1 = np.zeros((row, col), np.uint8)\n",
    "    T0 = T\n",
    "    T1 = cal(img, T0)\n",
    "    for k in range (100):   # 迭代次数为经验值，可据实际情况选定\n",
    "        print(\"This is \", k, \" times iteration. T = \", T1)\n",
    "        if abs(T1 - T0) == 0:   # 若新阈值减旧阈值差值为零，则为二值图最佳阈值\n",
    "            for i in range (row):\n",
    "                for j in range (col):\n",
    "                    if img[i, j] > T1:\n",
    "                        img1[i, j] = 255\n",
    "                    else:\n",
    "                        img1[i, j] = 0\n",
    "            break\n",
    "        else:\n",
    "            T2 = cal(img, T1)\n",
    "            T0 = T1\n",
    "            T1 = T2   # 变量转换，保证if条件为新阈值减旧阈值\n",
    "    print(\"[FINISH]  ohta() success\")\n",
    "    return img1"
   ]
  },
  {
   "cell_type": "markdown",
   "metadata": {
    "pycharm": {
     "name": "#%% md\n"
    }
   },
   "source": [
    "# 展示图像"
   ]
  },
  {
   "cell_type": "code",
   "execution_count": 3,
   "metadata": {
    "pycharm": {
     "name": "#%%\n"
    }
   },
   "outputs": [
    {
     "name": "stdout",
     "output_type": "stream",
     "text": [
      "This is  0  times iteration. T =  128\n",
      "This is  1  times iteration. T =  128\n",
      "[FINISH]  ohta() success\n"
     ]
    },
    {
     "data": {
      "image/png": "[encoded data removed]",
      "text/plain": [
       "<Figure size 432x288 with 2 Axes>"
      ]
     },
     "metadata": {},
     "output_type": "display_data"
    }
   ],
   "source": [
    "gray = readGRAY('data/01_phone.png')\n",
    "bi = ohta(gray, 127)\n",
    "show(gray, bi)"
   ]
  },
  {
   "cell_type": "markdown",
   "metadata": {
    "pycharm": {
     "name": "#%% md\n"
    }
   },
   "source": [
    "# 腐蚀、膨胀实现"
   ]
  },
  {
   "cell_type": "code",
   "execution_count": 4,
   "metadata": {
    "pycharm": {
     "name": "#%%\n"
    }
   },
   "outputs": [],
   "source": [
    "def self_erosion(pic_bin, win_size):\n",
    "    if win_size % 2 == 0:\n",
    "        win_size += 1\n",
    "\n",
    "    kernel = np.zeros((win_size, win_size), dtype=np.uint8)\n",
    "\n",
    "    # 结构化元素\n",
    "    for count in range(win_size):\n",
    "        kernel[count][int(win_size / 2)] = 1\n",
    "        kernel[int(win_size / 2)][count] = 1\n",
    "\n",
    "    row, col = pic_bin.shape\n",
    "    img = np.zeros((row, col), np.uint8)\n",
    "\n",
    "    step = int(win_size / 2)\n",
    "\n",
    "    # 遍历大图\n",
    "    for i in range(step, row - step):\n",
    "        for j in range(step, col - step):\n",
    "\n",
    "            count = 0\n",
    "            # 遍历核\n",
    "            for n in range(win_size):\n",
    "                for m in range(win_size):\n",
    "\n",
    "                    if kernel[n][m] == 1 and pic_bin[i - step + n][j - step + m] == 255:\n",
    "                        count += 1\n",
    "            if count == win_size * 2 - 1:\n",
    "                img[i][j] = 255\n",
    "            else:\n",
    "                img[i][j] = 0\n",
    "    # show(pic_ori, pic_bin, img)\n",
    "    return img"
   ]
  },
  {
   "cell_type": "code",
   "execution_count": 5,
   "metadata": {
    "pycharm": {
     "name": "#%%\n"
    }
   },
   "outputs": [],
   "source": [
    "def self_dilation(pic_bin, win_size):\n",
    "    if win_size % 2 == 0:\n",
    "        win_size += 1\n",
    "\n",
    "    kernel = np.zeros((win_size, win_size), dtype=np.uint8)\n",
    "\n",
    "    for count in range(win_size):\n",
    "        kernel[count][int(win_size / 2)] = 1\n",
    "        kernel[int(win_size / 2)][count] = 1\n",
    "\n",
    "    row, col = pic_bin.shape\n",
    "    img = np.zeros((row, col), np.uint8)\n",
    "    step = int(win_size / 2)\n",
    "    for i in range(step, row - step):\n",
    "        for j in range(step, col - step):\n",
    "            for n in range(win_size):\n",
    "                for m in range(win_size):\n",
    "                    if kernel[n][m] == 1 and pic_bin[i - step + n][j - step + m] != 0:\n",
    "                        img[i][j] = 255\n",
    "    return img"
   ]
  },
  {
   "cell_type": "code",
   "execution_count": 6,
   "metadata": {
    "pycharm": {
     "name": "#%%\n"
    }
   },
   "outputs": [
    {
     "data": {
      "image/png": "[encoded data removed]",
      "text/plain": [
       "<Figure size 432x288 with 3 Axes>"
      ]
     },
     "metadata": {},
     "output_type": "display_data"
    }
   ],
   "source": [
    "di = self_dilation(bi, 7)\n",
    "er = self_erosion(bi, 7)\n",
    "show(bi, er, di)"
   ]
  },
  {
   "cell_type": "markdown",
   "metadata": {
    "pycharm": {
     "name": "#%% md\n"
    }
   },
   "source": [
    "# 开闭运算"
   ]
  },
  {
   "cell_type": "code",
   "execution_count": 7,
   "metadata": {
    "pycharm": {
     "name": "#%%\n"
    }
   },
   "outputs": [
    {
     "data": {
      "image/png": "[encoded data removed]",
      "text/plain": [
       "<Figure size 432x288 with 3 Axes>"
      ]
     },
     "metadata": {},
     "output_type": "display_data"
    }
   ],
   "source": [
    "def self_close(pic, win):\n",
    "    row, col = pic.shape\n",
    "    img = np.zeros((row, col), dtype=np.uint8)\n",
    "    img = self_dilation(pic, win)\n",
    "    img = self_erosion(img, win)\n",
    "    return img\n",
    "\n",
    "win_size = 5\n",
    "clo = self_close(bi, win_size)\n",
    "kernel = cv2.getStructuringElement(cv2.MORPH_CROSS, (win_size, win_size))\n",
    "show(bi, clo,\n",
    "     cv2.morphologyEx(bi, cv2.MORPH_CLOSE, kernel))"
   ]
  },
  {
   "cell_type": "code",
   "execution_count": 8,
   "metadata": {
    "pycharm": {
     "name": "#%%\n"
    }
   },
   "outputs": [
    {
     "ename": "KeyboardInterrupt",
     "evalue": "",
     "output_type": "error",
     "traceback": [
      "\u001b[0;31m---------------------------------------------------------------------------\u001b[0m",
      "\u001b[0;31mKeyboardInterrupt\u001b[0m                         Traceback (most recent call last)",
      "Input \u001b[0;32mIn [8]\u001b[0m, in \u001b[0;36m<cell line: 9>\u001b[0;34m()\u001b[0m\n\u001b[1;32m      6\u001b[0m     \u001b[38;5;28;01mreturn\u001b[39;00m img\n\u001b[1;32m      8\u001b[0m win_size \u001b[38;5;241m=\u001b[39m \u001b[38;5;241m5\u001b[39m\n\u001b[0;32m----> 9\u001b[0m clo \u001b[38;5;241m=\u001b[39m \u001b[43mself_open\u001b[49m\u001b[43m(\u001b[49m\u001b[43mbi\u001b[49m\u001b[43m,\u001b[49m\u001b[43m \u001b[49m\u001b[43mwin_size\u001b[49m\u001b[43m)\u001b[49m\n\u001b[1;32m     10\u001b[0m kernel \u001b[38;5;241m=\u001b[39m cv2\u001b[38;5;241m.\u001b[39mgetStructuringElement(cv2\u001b[38;5;241m.\u001b[39mMORPH_CROSS, (win_size, win_size))\n\u001b[1;32m     11\u001b[0m show(bi, clo,\n\u001b[1;32m     12\u001b[0m      cv2\u001b[38;5;241m.\u001b[39mmorphologyEx(bi, cv2\u001b[38;5;241m.\u001b[39mMORPH_OPEN, kernel))\n",
      "Input \u001b[0;32mIn [8]\u001b[0m, in \u001b[0;36mself_open\u001b[0;34m(pic, win)\u001b[0m\n\u001b[1;32m      3\u001b[0m img \u001b[38;5;241m=\u001b[39m np\u001b[38;5;241m.\u001b[39mzeros((row, col), dtype\u001b[38;5;241m=\u001b[39mnp\u001b[38;5;241m.\u001b[39muint8)\n\u001b[1;32m      4\u001b[0m img \u001b[38;5;241m=\u001b[39m self_erosion(img, win)\n\u001b[0;32m----> 5\u001b[0m img \u001b[38;5;241m=\u001b[39m \u001b[43mself_dilation\u001b[49m\u001b[43m(\u001b[49m\u001b[43mpic\u001b[49m\u001b[43m,\u001b[49m\u001b[43m \u001b[49m\u001b[43mwin\u001b[49m\u001b[43m)\u001b[49m\n\u001b[1;32m      6\u001b[0m \u001b[38;5;28;01mreturn\u001b[39;00m img\n",
      "Input \u001b[0;32mIn [5]\u001b[0m, in \u001b[0;36mself_dilation\u001b[0;34m(pic_bin, win_size)\u001b[0m\n\u001b[1;32m     16\u001b[0m         \u001b[38;5;28;01mfor\u001b[39;00m n \u001b[38;5;129;01min\u001b[39;00m \u001b[38;5;28mrange\u001b[39m(win_size):\n\u001b[1;32m     17\u001b[0m             \u001b[38;5;28;01mfor\u001b[39;00m m \u001b[38;5;129;01min\u001b[39;00m \u001b[38;5;28mrange\u001b[39m(win_size):\n\u001b[0;32m---> 18\u001b[0m                 \u001b[38;5;28;01mif\u001b[39;00m \u001b[43mkernel\u001b[49m\u001b[43m[\u001b[49m\u001b[43mn\u001b[49m\u001b[43m]\u001b[49m\u001b[43m[\u001b[49m\u001b[43mm\u001b[49m\u001b[43m]\u001b[49m\u001b[43m \u001b[49m\u001b[38;5;241;43m==\u001b[39;49m\u001b[43m \u001b[49m\u001b[38;5;241;43m1\u001b[39;49m \u001b[38;5;129;01mand\u001b[39;00m pic_bin[i \u001b[38;5;241m-\u001b[39m step \u001b[38;5;241m+\u001b[39m n][j \u001b[38;5;241m-\u001b[39m step \u001b[38;5;241m+\u001b[39m m] \u001b[38;5;241m!=\u001b[39m \u001b[38;5;241m0\u001b[39m:\n\u001b[1;32m     19\u001b[0m                     img[i][j] \u001b[38;5;241m=\u001b[39m \u001b[38;5;241m255\u001b[39m\n\u001b[1;32m     20\u001b[0m \u001b[38;5;28;01mreturn\u001b[39;00m img\n",
      "\u001b[0;31mKeyboardInterrupt\u001b[0m: "
     ]
    }
   ],
   "source": [
    "def self_open(pic, win):\n",
    "    row, col = pic.shape\n",
    "    img = np.zeros((row, col), dtype=np.uint8)\n",
    "    img = self_erosion(img, win)\n",
    "    img = self_dilation(pic, win)\n",
    "    return img\n",
    "\n",
    "win_size = 5\n",
    "clo = self_open(bi, win_size)\n",
    "kernel = cv2.getStructuringElement(cv2.MORPH_CROSS, (win_size, win_size))\n",
    "show(bi, clo,\n",
    "     cv2.morphologyEx(bi, cv2.MORPH_OPEN, kernel))"
   ]
  },
  {
   "cell_type": "code",
   "execution_count": null,
   "metadata": {
    "pycharm": {
     "name": "#%%\n"
    }
   },
   "outputs": [],
   "source": [
    "win_size = 3\n",
    "clo = self_open(bi, win_size)\n",
    "kernel = cv2.getStructuringElement(cv2.MORPH_CROSS, (win_size, win_size))\n",
    "CLOSE = cv2.morphologyEx(bi, cv2.MORPH_OPEN, kernel)\n",
    "show(bi, clo, CLOSE)"
   ]
  },
  {
   "cell_type": "markdown",
   "metadata": {
    "pycharm": {
     "name": "#%% md\n"
    }
   },
   "source": [
    "# 梯度"
   ]
  },
  {
   "cell_type": "code",
   "execution_count": null,
   "metadata": {
    "pycharm": {
     "name": "#%%\n"
    }
   },
   "outputs": [],
   "source": [
    "di = self_dilation(bi, 7)\n",
    "er = self_erosion(bi, 7)\n",
    "show(di, er, di - er, \"my Dilation\", \"my Erosion\", \"my Gradient(Minus)\")"
   ]
  },
  {
   "cell_type": "code",
   "execution_count": null,
   "metadata": {
    "pycharm": {
     "name": "#%%\n"
    }
   },
   "outputs": [],
   "source": [
    "win_size = 7\n",
    "kernel = cv2.getStructuringElement(cv2.MORPH_CROSS, (win_size, win_size))\n",
    "di_o = cv2.dilate(bi, kernel)\n",
    "er_o = cv2.erode(bi, kernel)\n",
    "show(di_o, er_o, di_o - er_o, \"OpenCV Dilation\", \"OpenCV Erosion\", \"OpenCV Minus\")"
   ]
  },
  {
   "cell_type": "code",
   "execution_count": null,
   "metadata": {
    "pycharm": {
     "name": "#%%\n"
    }
   },
   "outputs": [],
   "source": [
    "show(\n",
    "    di_o - er_o,\n",
    "    di - er,\n",
    "    cv2.morphologyEx(bi, cv2.MORPH_GRADIENT, kernel),\n",
    "    \"OpenCV Minus\", \"my Minus\", \"OpenCV Gradient\"\n",
    ")"
   ]
  },
  {
   "cell_type": "markdown",
   "metadata": {
    "pycharm": {
     "name": "#%% md\n"
    }
   },
   "source": [
    "# 礼貌与黑帽\n",
    "- 礼貌：原始 - 开运算\n",
    "- 黑帽：闭运算 - 原始输入"
   ]
  },
  {
   "cell_type": "code",
   "execution_count": null,
   "metadata": {
    "pycharm": {
     "name": "#%%\n"
    }
   },
   "outputs": [],
   "source": [
    "gray = readGRAY('data/01_cr.png')\n",
    "bi = ohta_2(gray, 127)\n",
    "open = self_open(bi, 3)\n",
    "print(\"hello\")\n",
    "close = self_close(bi, 3)\n",
    "print(\"hello\")\n",
    "show(bi,\n",
    "     bi - open,\n",
    "     close - bi,\n",
    "     \"Original\", \"Top Hat\", \"Black Hat\")"
   ]
  },
  {
   "cell_type": "code",
   "execution_count": null,
   "metadata": {
    "pycharm": {
     "name": "#%%\n"
    }
   },
   "outputs": [],
   "source": []
  }
 ],
 "metadata": {
  "kernelspec": {
   "display_name": "Python 3 (ipykernel)",
   "language": "python",
   "name": "python3"
  },
  "language_info": {
   "codemirror_mode": {
    "name": "ipython",
    "version": 3
   },
   "file_extension": ".py",
   "mimetype": "text/x-python",
   "name": "python",
   "nbconvert_exporter": "python",
   "pygments_lexer": "ipython3",
   "version": "3.9.10"
  }
 },
 "nbformat": 4,
 "nbformat_minor": 1
}
