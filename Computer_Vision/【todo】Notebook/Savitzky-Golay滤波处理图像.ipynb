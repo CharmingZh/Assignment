{
 "cells": [
  {
   "cell_type": "markdown",
   "id": "5eb9bf39",
   "metadata": {},
   "source": [
    "举个例子，假设我们想根据5x5的图像来进行平滑操作，图像矩阵的布局如下。\n",
    "\n",
    "|       |      | $x_i$ | $x_i$ | $x_i$ | $x_i$ | $x_i$ |\n",
    "| ----- | ---- | ----- | ----- | ----- | ----- | ----- |\n",
    "|       |      | -2    | -1    | 0     | 1     | 2     |\n",
    "| $y_i$ | -2   | d(0)  | d(1)  | d(2)  | d(3)  | d(4)  |\n",
    "| $y_i$ | -1   | d(5)  | d(6)  | d(7)  | d(8)  | d(9)  |\n",
    "| $y_i$ | 0    | d(10) | d(11) | d(12) | d(13) | d(14) |\n",
    "| $y_i$ | 1    | d(15) | d(16) | d(17) | d(18) | d(19) |\n",
    "| $y_i$ | 2    | d(20) | d(21) | d(22) | d(23) | d(24) |\n",
    "\n",
    "`d(i)` 是像素值， 列向量 `d` 代表所有图像数据：\n",
    "\n",
    "$$\n",
    "d = (\\,d(0)\\,d(1)\\, ...\\, d(24)\\,)^T\n",
    "$$\n",
    "\n",
    "我们想要拟合一个 $3^{rd}$ 阶, 二维多项式来拟合这个图像：\n",
    "\n",
    "$$\n",
    "d(i) ≈ f(x_i ,y_i) = a_{00} + a_{10}x_i + a_{01}y_i + a_{20}x_i^2 + a_{11}x_iy_i + a_{02}y_i^2 + a_{30}x_i^3 + a_{21}x_i^2y_i + a_{12}x_iy_i^2 + a_{03}y_i^3\n",
    "$$\n",
    "\n",
    "Note that the coefficient of x i y j is a ij . (x i ,y i ) is the pixel coordinate of d(i).\n",
    "\n",
    "To compute the coefficients from the data we set up a matrix equation:\n",
    "\n",
    "Xa = d"
   ]
  },
  {
   "cell_type": "code",
   "execution_count": 1,
   "id": "ca817249",
   "metadata": {},
   "outputs": [
    {
     "name": "stdout",
     "output_type": "stream",
     "text": [
      "OpenCV version: 4.5.5\n",
      "Matplotlib.Pyplot 3.5.1\n",
      "Numpy version: 1.21.2\n"
     ]
    }
   ],
   "source": [
    "import sys\n",
    "import cv2\n",
    "print(\"OpenCV version:\", cv2.__version__)\n",
    "import matplotlib.pyplot as plt\n",
    "import matplotlib\n",
    "print(\"Matplotlib.Pyplot\", matplotlib.__version__)\n",
    "import numpy as np\n",
    "print(\"Numpy version:\", np.__version__)\n",
    "import math\n",
    "from scipy import signal\n",
    "import scipy\n",
    "\n",
    "from mpl_toolkits.mplot3d import Axes3D\n",
    "from matplotlib import cm\n",
    "from matplotlib.ticker import LinearLocator, FormatStrFormatter\n",
    "\n",
    "# 用于在 Jupyter Notebook 内部显示图片\n",
    "%matplotlib inline    \n",
    "\n",
    "def sgolay2d ( z, window_size, order, derivative=None):\n",
    "    # number of terms in the polynomial expression\n",
    "    n_terms = ( order + 1 ) * ( order + 2)  / 2.0\n",
    "\n",
    "    if  window_size % 2 == 0:  raise ValueError('窗口大小必须是奇数')\n",
    "    if window_size**2 < n_terms:  raise ValueError('阶数过高')\n",
    "\n",
    "    half_size = window_size // 2  # 向下取整\n",
    "\n",
    "    # 多项式各项的阶数\n",
    "    # exps = [(0,0), (1,0), (0,1), (2,0), (1,1), (0,2), ...]\n",
    "    exps = [ (k-n, n) for k in range(order+1) for n in range(k+1) ]\n",
    "    print(\"Exps : \", exps)\n",
    "\n",
    "    # 点坐标系\n",
    "    ind = np.arange(-half_size, half_size+1, dtype=np.float64)\n",
    "    print(\"ind : \", ind)\n",
    "    dx = np.repeat( ind, window_size )\n",
    "    print(\"dx : \", dx)\n",
    "    dy = np.tile( ind, [window_size, 1]).reshape(window_size**2, )\n",
    "    print(\"dy : \", dy)\n",
    "\n",
    "    # 建立方程组的矩阵\n",
    "    A = np.empty( (window_size**2, len(exps)) )\n",
    "    # print(\"A : \", A)\n",
    "    for i, exp in enumerate( exps ):\n",
    "        print(\"i, exp\", i, exp)\n",
    "        A[:,i] = (dx**exp[0]) * (dy**exp[1])\n",
    "    # print(\"A_0 : \", A)\n",
    "\n",
    "    # 在四个边框处用适当的值填充输入阵列\n",
    "    new_shape = z.shape[0] + 2*half_size, z.shape[1] + 2*half_size  # 将原来的图像向外扩展半个窗口大小\n",
    "    Z = np.zeros( (new_shape) )\n",
    "    \n",
    "    # top band\n",
    "    band = z[0, :]\n",
    "    Z[:half_size, half_size:-half_size] =  band -  np.abs( np.flipud( z[1:half_size+1, :] ) - band )\n",
    "    # bottom band\n",
    "    band = z[-1, :]\n",
    "    Z[-half_size:, half_size:-half_size] = band  + np.abs( np.flipud( z[-half_size-1:-1, :] )  -band )\n",
    "    # left band\n",
    "    band = np.tile( z[:,0].reshape(-1,1), [1,half_size])\n",
    "    Z[half_size:-half_size, :half_size] = band - np.abs( np.fliplr( z[:, 1:half_size+1] ) - band )\n",
    "    # right band\n",
    "    band = np.tile( z[:,-1].reshape(-1,1), [1,half_size] )\n",
    "    Z[half_size:-half_size, -half_size:] =  band + np.abs( np.fliplr( z[:, -half_size-1:-1] ) - band )\n",
    "    # central band\n",
    "    Z[half_size:-half_size, half_size:-half_size] = z\n",
    "\n",
    "    # 左上角↖️\n",
    "    band = z[0,0]\n",
    "    Z[:half_size,:half_size] = band - np.abs( np.flipud(np.fliplr(z[1:half_size+1,1:half_size+1]) ) - band )\n",
    "    # 右下角↘️\n",
    "    band = z[-1,-1]\n",
    "    Z[-half_size:,-half_size:] = band + np.abs( np.flipud(np.fliplr(z[-half_size-1:-1,-half_size-1:-1]) ) - band )\n",
    "    # 右上角↗️\n",
    "    band = Z[half_size,-half_size:]\n",
    "    Z[:half_size,-half_size:] = band - np.abs( np.flipud(Z[half_size+1:2*half_size+1,-half_size:]) - band )\n",
    "    # 左下角↙️\n",
    "    band = Z[-half_size:,half_size].reshape(-1,1)\n",
    "    Z[-half_size:,:half_size] = band - np.abs( np.fliplr(Z[-half_size:, half_size+1:2*half_size+1]) - band )\n",
    "\n",
    "    # 解方程组并卷积\n",
    "    if derivative == None:\n",
    "        m = np.linalg.pinv(A)[0].reshape((window_size, -1))\n",
    "        return scipy.signal.fftconvolve(Z, m, mode='valid')\n",
    "    \n",
    "    elif derivative == 'col':\n",
    "        c = np.linalg.pinv(A)[1].reshape((window_size, -1))\n",
    "        return scipy.signal.fftconvolve(Z, -c, mode='valid')\n",
    "    \n",
    "    elif derivative == 'row':\n",
    "        r = np.linalg.pinv(A)[2].reshape((window_size, -1))\n",
    "        return scipy.signal.fftconvolve(Z, -r, mode='valid')\n",
    "    \n",
    "    elif derivative == 'both':\n",
    "        c = np.linalg.pinv(A)[1].reshape((window_size, -1))\n",
    "        r = np.linalg.pinv(A)[2].reshape((window_size, -1))\n",
    "        return scipy.signal.fftconvolve(Z, -r, mode='valid'), scipy.signal.fftconvolve(Z, -c, mode='valid')"
   ]
  },
  {
   "cell_type": "code",
   "execution_count": 2,
   "id": "fb42ec8c",
   "metadata": {
    "scrolled": false
   },
   "outputs": [
    {
     "name": "stdout",
     "output_type": "stream",
     "text": [
      "[[ 0.81754339  2.54477609  3.54301469  4.66806967  5.72925732]\n",
      " [ 7.79662514  7.20935075  6.93045546  8.1603216  10.29581417]\n",
      " [10.91129607 11.48704647 11.92877612 13.01426737 15.26782744]\n",
      " [17.00441106 16.85777536 17.73151798 19.66099882 21.14961806]\n",
      " [21.92778149 22.27814628 22.74506797 23.58504288 24.7221467 ]]\n",
      "Exps :  [(0, 0), (1, 0), (0, 1), (2, 0), (1, 1), (0, 2), (3, 0), (2, 1), (1, 2), (0, 3)]\n",
      "ind :  [-2. -1.  0.  1.  2.]\n",
      "dx :  [-2. -2. -2. -2. -2. -1. -1. -1. -1. -1.  0.  0.  0.  0.  0.  1.  1.  1.\n",
      "  1.  1.  2.  2.  2.  2.  2.]\n",
      "dy :  [-2. -1.  0.  1.  2. -2. -1.  0.  1.  2. -2. -1.  0.  1.  2. -2. -1.  0.\n",
      "  1.  2. -2. -1.  0.  1.  2.]\n",
      "i, exp 0 (0, 0)\n",
      "i, exp 1 (1, 0)\n",
      "i, exp 2 (0, 1)\n",
      "i, exp 3 (2, 0)\n",
      "i, exp 4 (1, 1)\n",
      "i, exp 5 (0, 2)\n",
      "i, exp 6 (3, 0)\n",
      "i, exp 7 (2, 1)\n",
      "i, exp 8 (1, 2)\n",
      "i, exp 9 (0, 3)\n",
      "[[ 0.98797742  2.27733793  3.63271419  4.64625101  5.72925732]\n",
      " [ 6.17784449  6.82642658  7.78409067  8.84504    10.28734007]\n",
      " [11.6909991  11.92035267 12.45789052 13.72025457 15.5869726 ]\n",
      " [16.62698446 17.08637672 17.63315456 18.77210475 20.4697037 ]\n",
      " [21.89929227 22.2627998  22.77356117 23.44616441 24.64654754]]\n"
     ]
    }
   ],
   "source": [
    "rand = np.random.randn(5, 5)\n",
    "Mat = np.arange(1, 26, 1).reshape(5, 5) + rand\n",
    "print(Mat)\n",
    "\n",
    "\n",
    "Mat_s = sgolay2d(Mat, 5, 3)\n",
    "print(Mat_s)"
   ]
  },
  {
   "cell_type": "code",
   "execution_count": 3,
   "id": "a9804618",
   "metadata": {},
   "outputs": [
    {
     "name": "stdout",
     "output_type": "stream",
     "text": [
      "[1 2 3 4 5 6 7 8 9]\n",
      "[1 1 1 2 2 2 3 3 3 4 4 4 5 5 5 6 6 6 7 7 7 8 8 8 9 9 9]\n",
      "[1 2 3 4 5 6 7 8 9 1 2 3 4 5 6 7 8 9 1 2 3 4 5 6 7 8 9]\n",
      "[[1 2 3 4 5 6 7 8 9]\n",
      " [1 2 3 4 5 6 7 8 9]\n",
      " [1 2 3 4 5 6 7 8 9]]\n"
     ]
    }
   ],
   "source": [
    "c = np.arange(1, 10)\n",
    "print(c)\n",
    "e = np.repeat(c, 3)\n",
    "print(e)\n",
    "d = np.tile(c, 3)\n",
    "print(d)\n",
    "c = np.tile(c, [3, 1])\n",
    "print(c)\n"
   ]
  },
  {
   "cell_type": "code",
   "execution_count": 4,
   "id": "a3ea4870",
   "metadata": {},
   "outputs": [
    {
     "data": {
      "text/plain": [
       "array([[1, 2, 3, 4, 5, 6, 7, 8, 9],\n",
       "       [1, 2, 3, 4, 5, 6, 7, 8, 9],\n",
       "       [1, 2, 3, 4, 5, 6, 7, 8, 9]])"
      ]
     },
     "execution_count": 4,
     "metadata": {},
     "output_type": "execute_result"
    }
   ],
   "source": [
    "c"
   ]
  },
  {
   "cell_type": "code",
   "execution_count": 6,
   "id": "95969f91",
   "metadata": {},
   "outputs": [
    {
     "data": {
      "text/plain": [
       "(3, 9)"
      ]
     },
     "execution_count": 6,
     "metadata": {},
     "output_type": "execute_result"
    }
   ],
   "source": [
    "c.shape"
   ]
  },
  {
   "cell_type": "code",
   "execution_count": 5,
   "id": "ada50900",
   "metadata": {},
   "outputs": [
    {
     "name": "stdout",
     "output_type": "stream",
     "text": [
      "[[0. 0. 0. 0. 0. 0. 0. 0. 0.]\n",
      " [0. 0. 0. 0. 0. 0. 0. 0. 0.]]\n"
     ]
    }
   ],
   "source": [
    "test = np.zeros((9, 9))\n",
    "print(np.flipud( test[1:3, :] ) )"
   ]
  },
  {
   "cell_type": "code",
   "execution_count": null,
   "id": "f0105d61",
   "metadata": {},
   "outputs": [],
   "source": []
  }
 ],
 "metadata": {
  "kernelspec": {
   "display_name": "Python 3 (ipykernel)",
   "language": "python",
   "name": "python3"
  },
  "language_info": {
   "codemirror_mode": {
    "name": "ipython",
    "version": 3
   },
   "file_extension": ".py",
   "mimetype": "text/x-python",
   "name": "python",
   "nbconvert_exporter": "python",
   "pygments_lexer": "ipython3",
   "version": "3.9.10"
  },
  "toc": {
   "base_numbering": 1,
   "nav_menu": {},
   "number_sections": true,
   "sideBar": true,
   "skip_h1_title": false,
   "title_cell": "Table of Contents",
   "title_sidebar": "Contents",
   "toc_cell": false,
   "toc_position": {},
   "toc_section_display": true,
   "toc_window_display": false
  }
 },
 "nbformat": 4,
 "nbformat_minor": 5
}
