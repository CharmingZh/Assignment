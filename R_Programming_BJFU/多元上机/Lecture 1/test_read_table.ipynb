{
 "cells": [
  {
   "cell_type": "code",
   "execution_count": 8,
   "id": "c19a7e3d",
   "metadata": {},
   "outputs": [
    {
     "name": "stdout",
     "output_type": "stream",
     "text": [
      "    x1 x2\n",
      "1  171 57\n",
      "2  175 64\n",
      "3  159 41\n",
      "4  155 38\n",
      "5  152 35\n",
      "6  158 44\n",
      "7  154 41\n",
      "8  164 51\n",
      "9  168 57\n",
      "10 166 49\n",
      "11 159 47\n",
      "12 164 46\n"
     ]
    }
   ],
   "source": [
    "data <- read.table(\"textdata.txt\", header = T)\n",
    "print(data)"
   ]
  },
  {
   "cell_type": "code",
   "execution_count": null,
   "id": "ba497659",
   "metadata": {},
   "outputs": [],
   "source": []
  }
 ],
 "metadata": {
  "kernelspec": {
   "display_name": "R",
   "language": "R",
   "name": "ir"
  },
  "language_info": {
   "codemirror_mode": "r",
   "file_extension": ".r",
   "mimetype": "text/x-r-source",
   "name": "R",
   "pygments_lexer": "r",
   "version": "4.1.2"
  }
 },
 "nbformat": 4,
 "nbformat_minor": 5
}
