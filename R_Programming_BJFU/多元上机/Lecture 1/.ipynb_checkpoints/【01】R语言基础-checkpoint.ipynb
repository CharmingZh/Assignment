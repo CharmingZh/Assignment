{
 "cells": [
  {
   "cell_type": "markdown",
   "id": "78f372e3",
   "metadata": {},
   "source": [
    "# `R` 简介\n",
    "\n",
    "`R`是一种软件，是一套完整的数据处理、计算和制图软件系统。其功能包括：数据存储和处理系统，数组运算工具，完整连贯的统计分析工具，优秀的统计制图功能。简便而强大的编程语言。\n",
    "\n",
    "# `R`下载和安装\n",
    "\n",
    "- `R`是全免费的，[下载网站](https://www.r-project.org/);\n",
    "- [macOS 版本](https://mirrors.tuna.tsinghua.edu.cn/CRAN/bin/macosx/);\n",
    "- 安装了多个`R`版本后[切换](https://rud.is/rswitch/);"
   ]
  },
  {
   "cell_type": "markdown",
   "id": "d2ff9960",
   "metadata": {},
   "source": [
    "# `R`基础介绍与简单运算\n",
    "## 数字、字符与向量\n",
    "### 向量"
   ]
  },
  {
   "cell_type": "markdown",
   "id": "d61c9572",
   "metadata": {},
   "source": [
    "#### 向量的赋值\n",
    "建立一个名为`x`的向量，其中各分量为`10.4, 5.6, 3.1, 6.4, 21.7`;"
   ]
  },
  {
   "cell_type": "code",
   "execution_count": 5,
   "id": "a8214a7a",
   "metadata": {},
   "outputs": [
    {
     "name": "stdout",
     "output_type": "stream",
     "text": [
      "[1] 10.4  5.6  3.1  6.4 21.7\n"
     ]
    }
   ],
   "source": [
    "x <- c(10.4, 5.6, 3.1, 6.4, 21.7); print(x)"
   ]
  },
  {
   "cell_type": "markdown",
   "id": "909b3057",
   "metadata": {},
   "source": [
    "其中:\n",
    "- `x`是变量名\n",
    "- `<-`、`->`为赋值符\n",
    "- `c()`为向量建立函数\n",
    "上述命令就是将函数`c()`中的数据赋给变量`x`\n",
    "\n",
    "进一步可以："
   ]
  },
  {
   "cell_type": "code",
   "execution_count": 10,
   "id": "903d4afa",
   "metadata": {},
   "outputs": [
    {
     "name": "stdout",
     "output_type": "stream",
     "text": [
      " [1]  10.4   5.6   3.1   6.4  21.7  99.0 104.0  56.0  31.0  64.0 217.0\n"
     ]
    }
   ],
   "source": [
    "y <- c(x, 99, 10 * x); print(y)"
   ]
  },
  {
   "cell_type": "markdown",
   "id": "039a755a",
   "metadata": {},
   "source": [
    "定义变量`y`有$11$个分量，其中两边是变量`x`，中间为$0$\n",
    "### 向量的运算\n",
    "对于向量可做`+、-、*、/、^`运算。\n",
    "\n",
    "其含义是对向量的`每一个`元素进行运算，其中`加、减和数乘运算`与我们通常的向量运算基本相同。如："
   ]
  },
  {
   "cell_type": "code",
   "execution_count": 17,
   "id": "e13fe5f1",
   "metadata": {},
   "outputs": [
    {
     "name": "stderr",
     "output_type": "stream",
     "text": [
      "2 * x + y + 1\n",
      "\n"
     ]
    },
    {
     "name": "stdout",
     "output_type": "stream",
     "text": [
      "[1] 2 9 5\n"
     ]
    }
   ],
   "source": [
    "x <- c(-1, 0, 1); y <- c(3, 8, 2)\n",
    "message(\"2 * x + y + 1\");\n",
    "v <- 2 * x + y + 1; print(v)"
   ]
  },
  {
   "cell_type": "markdown",
   "id": "73c244e9",
   "metadata": {},
   "source": [
    "对于向量的`乘法、除法、乘方运算`，其意义是：对应向量的`每个`分量作运算。如："
   ]
  },
  {
   "cell_type": "code",
   "execution_count": 19,
   "id": "65bd05c4",
   "metadata": {},
   "outputs": [
    {
     "name": "stderr",
     "output_type": "stream",
     "text": [
      "x = (-1, 0, 1), y = (3, 8, 2)\n",
      "\n"
     ]
    },
    {
     "name": "stdout",
     "output_type": "stream",
     "text": [
      "[1] -3  0  2\n",
      "[1] -0.3333333  0.0000000  0.5000000\n",
      "[1] -1  0  1\n"
     ]
    }
   ],
   "source": [
    "message(\"x = (-1, 0, 1), y = (3, 8, 2)\")\n",
    "print(x * y); print(x / y); print(x ^ y)"
   ]
  },
  {
   "cell_type": "markdown",
   "id": "37e6838a",
   "metadata": {},
   "source": [
    "- `%/%`：整数除法；\n",
    "- `%%` ：求余数；"
   ]
  },
  {
   "cell_type": "code",
   "execution_count": 21,
   "id": "ad5ca217",
   "metadata": {},
   "outputs": [
    {
     "name": "stdout",
     "output_type": "stream",
     "text": [
      "[1] 3\n",
      "[1] 1\n"
     ]
    }
   ],
   "source": [
    "print(10 %/% 3); print(10 %% 3)"
   ]
  },
  {
   "cell_type": "markdown",
   "id": "80ef1dd0",
   "metadata": {},
   "source": [
    "还可以作函数运算，如基本初等函数：`log、exp、cos、tan、sqrt`等，当自变量为向量时，函数的返回值也是向量，即每个分量取相应的函数值。\n",
    "\n",
    "另外一些与向量运算有关的函数：\n",
    "- `min(), which.min()`：向量的最小值、及其索引；\n",
    "- `max(), which.max()`：向量的最大值、及其索引；\n",
    "- `range()`：向量数值的范围；\n",
    "- `sum()`：向量求和；\n",
    "- `prod()`：向量各分量乘积；\n",
    "- `length()`：求向量长度；\n",
    "---\n",
    "- `median()`：中位数；\n",
    "- `mean()`：均值；\n",
    "    - `var()`：方差；\n",
    "    - `sd()`：标准差；\n",
    "- `sort()`：顺序统计量；\n",
    "> `sort()`表示求与原向量大小相同，按递增顺序排列的向量，即顺序统计量。相应的下标由`order()`或`sort.list()`列出。如："
   ]
  },
  {
   "cell_type": "code",
   "execution_count": 29,
   "id": "f039d0fc",
   "metadata": {},
   "outputs": [
    {
     "name": "stdout",
     "output_type": "stream",
     "text": [
      "[1] 10  6  4  7  8\n",
      "[1]  4  6  7  8 10\n",
      "[1] 3 2 4 5 1\n",
      "[1] 3 2 4 5 1\n"
     ]
    }
   ],
   "source": [
    "x <- c(10, 6 ,4 ,7 ,8)  ; print(x)\n",
    "y <- sort(x)            ; print(y)\n",
    "idx <- sort.list(x)     ; print(idx)\n",
    "idx <- order(x)         ; print(idx)"
   ]
  },
  {
   "cell_type": "markdown",
   "id": "d561d94c",
   "metadata": {},
   "source": [
    "### 产生有规律的序列\n",
    "#### 等差数列\n",
    "`A：B`表示从`A`开始，逐项$+1$或$-1$，直到`B`为止。如:\n",
    "1. `x <- 1 : 30`：表示向量`x = (1, 2, … , 30)`，\n",
    "2. `x <- 30 : 1`：表示向量`x = c(30, 29, … , 1)`\n",
    "- 当`A`为实数，`B`为整数时，向量`A : B`是实数，其间间隔$1$\n",
    "- 而当`A`为整数，`B`为实数时，`A : B`是间隔差$1$的整数向量。如："
   ]
  },
  {
   "cell_type": "code",
   "execution_count": 31,
   "id": "8305fdef",
   "metadata": {},
   "outputs": [
    {
     "name": "stdout",
     "output_type": "stream",
     "text": [
      "[1] 2.1 3.1 4.1 5.1 6.1 7.1 8.1 9.1\n",
      "[1]  2  3  4  5  6  7  8  9 10\n"
     ]
    }
   ],
   "source": [
    "print(2.1 : 10)\n",
    "print(2 : 10.1)"
   ]
  },
  {
   "cell_type": "markdown",
   "id": "c527a628",
   "metadata": {},
   "source": [
    "**注意**：`x <- 2 * 1 : 15`不是表示`2`到`15`，而是表示向量`(2, 4, … , 30)`，即`x <- 2 * (1 : 15)`，即**等差运算 优于 乘法运算**。\n",
    "\n",
    "同理，`1 : n - 1`不是表示`1`到`n - 1`，而是表示向量`(1 : n)`减去`1`，若要表示`1`到`n - 1`，则需要对`n - 1`加括号。如：`1 : (n - 1)`;"
   ]
  },
  {
   "cell_type": "markdown",
   "id": "412a2d93",
   "metadata": {},
   "source": [
    "#### 等间隔函数`seq()`\n",
    "基本形式为`seq(from = value1, to = value2, by = value3)`，`by`缺省为`1`，如："
   ]
  },
  {
   "cell_type": "code",
   "execution_count": 34,
   "id": "f80fc437",
   "metadata": {},
   "outputs": [
    {
     "name": "stdout",
     "output_type": "stream",
     "text": [
      "[1] -5 -3 -1  1  3  5\n"
     ]
    }
   ],
   "source": [
    "s_1 <- seq(-5, 5, 2); print(s_1)"
   ]
  },
  {
   "cell_type": "markdown",
   "id": "554880a3",
   "metadata": {},
   "source": [
    "另一种形式：`seq(length = value2, from = value1, by = value3)`：\n",
    "- `length`：长度；\n",
    "- `from`：起始值；"
   ]
  },
  {
   "cell_type": "code",
   "execution_count": 36,
   "id": "84dde1ed",
   "metadata": {},
   "outputs": [
    {
     "name": "stdout",
     "output_type": "stream",
     "text": [
      "[1] -5 -3 -1  1  3  5\n"
     ]
    }
   ],
   "source": [
    "s_2 <- seq(length=6, from=-5, by=2); print(s_2)"
   ]
  },
  {
   "cell_type": "markdown",
   "id": "fe4adc49",
   "metadata": {},
   "source": [
    "#### 重复函数`rep()`\n",
    "```\n",
    "retVal <- rep(x, times = value)\n",
    "```"
   ]
  },
  {
   "cell_type": "code",
   "execution_count": 39,
   "id": "182b9342",
   "metadata": {},
   "outputs": [
    {
     "name": "stdout",
     "output_type": "stream",
     "text": [
      "[1]  0  2  4  6  8 10\n",
      " [1]  0  2  4  6  8 10  0  2  4  6  8 10  0  2  4  6  8 10\n"
     ]
    }
   ],
   "source": [
    "x <- seq(0, 10, 2); print(x)\n",
    "x_3 <- rep(x, 3); print(x_3)"
   ]
  },
  {
   "cell_type": "markdown",
   "id": "e4ee0f4b",
   "metadata": {},
   "source": [
    "### 逻辑向量\n",
    "`R`允许逻辑操作，当逻辑运算为真时，返回`TRUE`，逻辑运算为假时，返回`FALSE`。如：\n",
    "- 逻辑运算符有：`<，<=，>，>=，==，!=`；\n",
    "如果`c1`和`c2`是两个逻辑表达式，则:\n",
    "- `c1 & c2`表示**c1 与 c2**;\n",
    "- `c1 | c2`表示**c1 或 c2**;\n",
    "- `!c1`表示**非c1**;"
   ]
  },
  {
   "cell_type": "code",
   "execution_count": 41,
   "id": "eae2fabb",
   "metadata": {},
   "outputs": [
    {
     "name": "stdout",
     "output_type": "stream",
     "text": [
      " [1]  1  2  3  4  5  6  7  8  9 10\n",
      " [1]  TRUE  TRUE  TRUE  TRUE  TRUE FALSE FALSE FALSE FALSE FALSE\n"
     ]
    }
   ],
   "source": [
    "x <- c(1:10); print(x)\n",
    "bool <- x < 6; print(bool)"
   ]
  },
  {
   "cell_type": "markdown",
   "id": "de4f23ea",
   "metadata": {},
   "source": [
    "判断向量其中是否有真值得函数是`any()`"
   ]
  },
  {
   "cell_type": "code",
   "execution_count": 43,
   "id": "afc09371",
   "metadata": {},
   "outputs": [
    {
     "data": {
      "text/html": [
       "TRUE"
      ],
      "text/latex": [
       "TRUE"
      ],
      "text/markdown": [
       "TRUE"
      ],
      "text/plain": [
       "[1] TRUE"
      ]
     },
     "metadata": {},
     "output_type": "display_data"
    }
   ],
   "source": [
    "any(x < 7)"
   ]
  },
  {
   "cell_type": "markdown",
   "id": "604891c1",
   "metadata": {},
   "source": [
    "### 缺失数据\n",
    "用`NA`表示某处的数据缺失，函数`is.na()`是检测缺失数据的函数，如果返回值为`TRUE`，则说明此数据为缺失数据，反之不是缺失数据。"
   ]
  },
  {
   "cell_type": "code",
   "execution_count": 44,
   "id": "889c0640",
   "metadata": {},
   "outputs": [
    {
     "name": "stdout",
     "output_type": "stream",
     "text": [
      "[1]  1  2  3  4 NA\n",
      "[1] FALSE FALSE FALSE FALSE  TRUE\n"
     ]
    }
   ],
   "source": [
    "z <- c(1:4, NA); print(z)\n",
    "ind <- is.na(z); print(ind)"
   ]
  },
  {
   "cell_type": "markdown",
   "id": "ff00672d",
   "metadata": {},
   "source": [
    "如果希望将缺失值改为：0，则用如下命令："
   ]
  },
  {
   "cell_type": "code",
   "execution_count": 45,
   "id": "875d4c0c",
   "metadata": {},
   "outputs": [
    {
     "name": "stdout",
     "output_type": "stream",
     "text": [
      "[1] 1 2 3 4 0\n"
     ]
    }
   ],
   "source": [
    "z[is.na(z)] <- 0; print(z)"
   ]
  },
  {
   "cell_type": "markdown",
   "id": "fadf212c",
   "metadata": {},
   "source": [
    "### 字符型向量"
   ]
  },
  {
   "cell_type": "markdown",
   "id": "8793d297",
   "metadata": {},
   "source": [
    "向量元素可以取字符串值，例如："
   ]
  },
  {
   "cell_type": "code",
   "execution_count": 56,
   "id": "2d92b344",
   "metadata": {},
   "outputs": [
    {
     "name": "stdout",
     "output_type": "stream",
     "text": [
      "[1] \"Hello\" \"World\"\n"
     ]
    }
   ],
   "source": [
    "str <- c(\"Hello\", \"World\"); print(str)"
   ]
  },
  {
   "cell_type": "markdown",
   "id": "753cfc26",
   "metadata": {},
   "source": [
    "可以用`paste()`函数把它的自变量连成一个字符串，中间用空格分开，例如:"
   ]
  },
  {
   "cell_type": "code",
   "execution_count": 57,
   "id": "7f8fcff3",
   "metadata": {},
   "outputs": [
    {
     "name": "stdout",
     "output_type": "stream",
     "text": [
      "[1] \"Hello BJFU !\" \"World BJFU !\"\n"
     ]
    }
   ],
   "source": [
    "str <- paste(str, \"BJFU !\"); print(str)"
   ]
  },
  {
   "cell_type": "markdown",
   "id": "531306eb",
   "metadata": {},
   "source": [
    "如上所示，输出为：`[1] \"Hello BJFU !\" \"World BJFU !\"`，是把对应的字符串向量分别连接了后续的字符串。如果想将多个字符串相连，应该给他们包裹在同一个向量中，并使用`collapse = \"\"`参数：\n",
    "```R\n",
    "paste( c(str, \"BJFU !\"), collapse = \" \")\n",
    "```"
   ]
  },
  {
   "cell_type": "code",
   "execution_count": 68,
   "id": "e6039ad8",
   "metadata": {},
   "outputs": [
    {
     "name": "stdout",
     "output_type": "stream",
     "text": [
      "[1] \"Hello World BJFU !\"\n"
     ]
    }
   ],
   "source": [
    "str <- c(\"Hello\", \"World\");\n",
    "str <- paste( c(str, \"BJFU !\"), collapse = \" \"); print(str)"
   ]
  },
  {
   "cell_type": "markdown",
   "id": "e945dbee",
   "metadata": {},
   "source": [
    "连接的自变量可以是`向量`，这时各**对应元素**连接起来，长度不相同时较短的向量被重复使用:"
   ]
  },
  {
   "cell_type": "code",
   "execution_count": 59,
   "id": "5d677dbd",
   "metadata": {},
   "outputs": [
    {
     "name": "stdout",
     "output_type": "stream",
     "text": [
      "[1] \"a 1\" \"b 2\" \"c 1\"\n"
     ]
    }
   ],
   "source": [
    "str_1 <- c(\"a\", \"b\", \"c\")\n",
    "str_2 <- c(\"1\", \"2\")\n",
    "print(paste(str_1, str_2))"
   ]
  },
  {
   "cell_type": "markdown",
   "id": "96c069b1",
   "metadata": {},
   "source": [
    "自变量可以是`数值向量`，连接时自动**转换**成适当的字符串表示，例如："
   ]
  },
  {
   "cell_type": "code",
   "execution_count": 61,
   "id": "73ee0255",
   "metadata": {},
   "outputs": [
    {
     "name": "stdout",
     "output_type": "stream",
     "text": [
      "[1] \"X_1\" \"X_2\" \"X_3\" \"X_4\" \"X_5\" \"X_6\"\n"
     ]
    }
   ],
   "source": [
    "labs <- paste(\"X\", 1 : 6, sep = \"_\"); print(labs)"
   ]
  },
  {
   "cell_type": "markdown",
   "id": "a5e9c00d",
   "metadata": {},
   "source": [
    "## 多维数组与矩阵\n",
    "### 创建一个向量（随机变量、一维数组）\n",
    "函数`c()`创建一个行向量，也可认为是一个`1行 12列`的矩阵\n",
    "- 函数`length()`可返回向量长度;\n",
    "- `mode()`可返回向量的数据类型;"
   ]
  },
  {
   "cell_type": "code",
   "execution_count": 69,
   "id": "5c728e51",
   "metadata": {},
   "outputs": [
    {
     "name": "stdout",
     "output_type": "stream",
     "text": [
      "[1] 12\n",
      "[1] \"numeric\"\n"
     ]
    }
   ],
   "source": [
    "x1 <- c(171, 175, 159, 155, 152, 158, 154, 164, 168, 166, 159, 164)\n",
    "x2 <- c(57, 64, 41, 38, 35, 44, 41, 51, 57, 49, 47, 46)\n",
    "print(length(x1))\n",
    "print(mode(x2))"
   ]
  },
  {
   "cell_type": "markdown",
   "id": "91143af1",
   "metadata": {},
   "source": [
    "### 创建一个矩阵"
   ]
  },
  {
   "cell_type": "markdown",
   "id": "85cf744d",
   "metadata": {},
   "source": [
    "#### 合并命令\n",
    "用`rbind()、cbind()`将两个或两个以上的向量或矩阵合并起来，`rbind()`表示按行合并，而`cbind()`表示按列合并；"
   ]
  },
  {
   "cell_type": "code",
   "execution_count": 78,
   "id": "a6af85fe",
   "metadata": {},
   "outputs": [
    {
     "name": "stdout",
     "output_type": "stream",
     "text": [
      "   [,1] [,2] [,3] [,4] [,5] [,6] [,7] [,8] [,9] [,10]\n",
      "x1    1    1    1    1    1    1    1    1    1     1\n",
      "x2    2    2    2    2    2    2    2    2    2     2\n",
      "[1] 3\n"
     ]
    }
   ],
   "source": [
    "x1 <- c(1, 1, 1, 1, 1, 1, 1, 1, 1, 1)\n",
    "x2 <- c(2, 2, 2, 2, 2)\n",
    "print(rbind(x1, x2))"
   ]
  },
  {
   "cell_type": "code",
   "execution_count": 79,
   "id": "ecb19c7a",
   "metadata": {
    "scrolled": true
   },
   "outputs": [
    {
     "name": "stdout",
     "output_type": "stream",
     "text": [
      "      x1 x2\n",
      " [1,]  1  2\n",
      " [2,]  1  2\n",
      " [3,]  1  2\n",
      " [4,]  1  2\n",
      " [5,]  1  2\n",
      " [6,]  1  2\n",
      " [7,]  1  2\n",
      " [8,]  1  2\n",
      " [9,]  1  2\n",
      "[10,]  1  2\n"
     ]
    }
   ],
   "source": [
    "print(cbind(x1, x2))"
   ]
  },
  {
   "cell_type": "markdown",
   "id": "aa1e793e",
   "metadata": {},
   "source": [
    "#### 生成矩阵\n",
    "函数`matrix()`可创建一个矩阵\n",
    "```R\n",
    "matrix(data = NA, nrow = 1, ncol = 1, byrow = FALSE, dimnames = NULL)\n",
    "```"
   ]
  },
  {
   "cell_type": "code",
   "execution_count": 114,
   "id": "3a72fac7",
   "metadata": {},
   "outputs": [
    {
     "name": "stdout",
     "output_type": "stream",
     "text": [
      " [1]  1  2  3  4  5  6  7  8  9 10 11 12\n"
     ]
    },
    {
     "data": {
      "text/html": [
       "<table class=\"dataframe\">\n",
       "<caption>A matrix: 3 × 4 of type dbl</caption>\n",
       "<tbody>\n",
       "\t<tr><td>1</td><td>4</td><td>7</td><td>10</td></tr>\n",
       "\t<tr><td>2</td><td>5</td><td>8</td><td>11</td></tr>\n",
       "\t<tr><td>3</td><td>6</td><td>9</td><td>12</td></tr>\n",
       "</tbody>\n",
       "</table>\n"
      ],
      "text/latex": [
       "A matrix: 3 × 4 of type dbl\n",
       "\\begin{tabular}{llll}\n",
       "\t 1 & 4 & 7 & 10\\\\\n",
       "\t 2 & 5 & 8 & 11\\\\\n",
       "\t 3 & 6 & 9 & 12\\\\\n",
       "\\end{tabular}\n"
      ],
      "text/markdown": [
       "\n",
       "A matrix: 3 × 4 of type dbl\n",
       "\n",
       "| 1 | 4 | 7 | 10 |\n",
       "| 2 | 5 | 8 | 11 |\n",
       "| 3 | 6 | 9 | 12 |\n",
       "\n"
      ],
      "text/plain": [
       "     [,1] [,2] [,3] [,4]\n",
       "[1,] 1    4    7    10  \n",
       "[2,] 2    5    8    11  \n",
       "[3,] 3    6    9    12  "
      ]
     },
     "metadata": {},
     "output_type": "display_data"
    }
   ],
   "source": [
    "x1 <- seq(length = 12, from = 1, by = 1); print(x1)\n",
    "A <- matrix(\n",
    "    data = x1,   # data 为必要的矩阵元素；\n",
    "    nrow = 3,    # nrow 为行数；\n",
    "    ncol = 4,    # ncol 为列数，他们的乘积是矩阵元素个数;\n",
    "    # byrow = T  # byrow 项控制排列元素 是否 按行进行，默认按列顺序放入元素\n",
    "    # dimnames   # dimnames 给定行和列的名称.\n",
    "); A"
   ]
  },
  {
   "cell_type": "markdown",
   "id": "0be9e7bf",
   "metadata": {},
   "source": [
    "#### 矩阵转置 && 矩阵求逆"
   ]
  },
  {
   "cell_type": "code",
   "execution_count": 115,
   "id": "e38f18ef",
   "metadata": {},
   "outputs": [
    {
     "data": {
      "text/html": [
       "<table class=\"dataframe\">\n",
       "<caption>A matrix: 4 × 3 of type dbl</caption>\n",
       "<tbody>\n",
       "\t<tr><td> 1</td><td> 2</td><td> 3</td></tr>\n",
       "\t<tr><td> 4</td><td> 5</td><td> 6</td></tr>\n",
       "\t<tr><td> 7</td><td> 8</td><td> 9</td></tr>\n",
       "\t<tr><td>10</td><td>11</td><td>12</td></tr>\n",
       "</tbody>\n",
       "</table>\n"
      ],
      "text/latex": [
       "A matrix: 4 × 3 of type dbl\n",
       "\\begin{tabular}{lll}\n",
       "\t  1 &  2 &  3\\\\\n",
       "\t  4 &  5 &  6\\\\\n",
       "\t  7 &  8 &  9\\\\\n",
       "\t 10 & 11 & 12\\\\\n",
       "\\end{tabular}\n"
      ],
      "text/markdown": [
       "\n",
       "A matrix: 4 × 3 of type dbl\n",
       "\n",
       "|  1 |  2 |  3 |\n",
       "|  4 |  5 |  6 |\n",
       "|  7 |  8 |  9 |\n",
       "| 10 | 11 | 12 |\n",
       "\n"
      ],
      "text/plain": [
       "     [,1] [,2] [,3]\n",
       "[1,]  1    2    3  \n",
       "[2,]  4    5    6  \n",
       "[3,]  7    8    9  \n",
       "[4,] 10   11   12  "
      ]
     },
     "metadata": {},
     "output_type": "display_data"
    },
    {
     "data": {
      "text/html": [
       "<table class=\"dataframe\">\n",
       "<caption>A matrix: 4 × 4 of type dbl</caption>\n",
       "<tbody>\n",
       "\t<tr><td>1</td><td>0.0</td><td>0.0000000</td><td>0.00</td></tr>\n",
       "\t<tr><td>0</td><td>0.5</td><td>0.0000000</td><td>0.00</td></tr>\n",
       "\t<tr><td>0</td><td>0.0</td><td>0.3333333</td><td>0.00</td></tr>\n",
       "\t<tr><td>0</td><td>0.0</td><td>0.0000000</td><td>0.25</td></tr>\n",
       "</tbody>\n",
       "</table>\n"
      ],
      "text/latex": [
       "A matrix: 4 × 4 of type dbl\n",
       "\\begin{tabular}{llll}\n",
       "\t 1 & 0.0 & 0.0000000 & 0.00\\\\\n",
       "\t 0 & 0.5 & 0.0000000 & 0.00\\\\\n",
       "\t 0 & 0.0 & 0.3333333 & 0.00\\\\\n",
       "\t 0 & 0.0 & 0.0000000 & 0.25\\\\\n",
       "\\end{tabular}\n"
      ],
      "text/markdown": [
       "\n",
       "A matrix: 4 × 4 of type dbl\n",
       "\n",
       "| 1 | 0.0 | 0.0000000 | 0.00 |\n",
       "| 0 | 0.5 | 0.0000000 | 0.00 |\n",
       "| 0 | 0.0 | 0.3333333 | 0.00 |\n",
       "| 0 | 0.0 | 0.0000000 | 0.25 |\n",
       "\n"
      ],
      "text/plain": [
       "     [,1] [,2] [,3]      [,4]\n",
       "[1,] 1    0.0  0.0000000 0.00\n",
       "[2,] 0    0.5  0.0000000 0.00\n",
       "[3,] 0    0.0  0.3333333 0.00\n",
       "[4,] 0    0.0  0.0000000 0.25"
      ]
     },
     "metadata": {},
     "output_type": "display_data"
    }
   ],
   "source": [
    "t(A)\n",
    "A <- diag(1:4); solve(A)"
   ]
  },
  {
   "cell_type": "markdown",
   "id": "cee91a20",
   "metadata": {},
   "source": [
    "矩阵基本运算：\n",
    "- 同行同列矩阵相加相减：`+, -`;\n",
    "- 可乘矩阵乘法：`%*%`;\n",
    "- `diag()`:\n",
    "    - 若传入参数为一个`矩阵`，则返回这个矩阵的`对角线元素`；\n",
    "    - 若传入参数为一个`向量`，则产生一个`对角矩阵`。\n",
    "- `solve()`：\n",
    "    - 用`solve(A, b)`运算，结果是可解线性方程组`Ax = b`的解`x`。\n",
    "    - 若`b`为单位矩阵，则结果就是`A`的`逆矩阵`。\n",
    "> `solve()`中，若`b`缺省，系统**默认为单位矩阵**"
   ]
  },
  {
   "cell_type": "markdown",
   "id": "9c052808",
   "metadata": {},
   "source": [
    "### 矩阵的特征值和特征向量\n",
    "矩阵`A`的谱分析为`A = UDU’`，其中`D`为由`A`的**特征值**组成的**对角矩阵**，`U`的列为`A`的特征值对应的**特征向量**，在`R`中可用函数`eigen()`得到`U`和`D`;\n",
    "```R\n",
    "eigen(x, symmetric, only.value = FALSE)\n",
    "```\n",
    "- `x`为矩阵\n",
    "- `symmetric`项指定矩阵`x`是否为对称矩阵，若不指定，系统将自动检测`x`是否为对称矩阵\n",
    "- `only.value`项如果是`TRUE`，只有**特征值**计算并返回，否则返回的特征值和特征向量。"
   ]
  },
  {
   "cell_type": "code",
   "execution_count": 116,
   "id": "d111f0a4",
   "metadata": {},
   "outputs": [
    {
     "name": "stderr",
     "output_type": "stream",
     "text": [
      "特征值向量\n",
      "\n"
     ]
    },
    {
     "name": "stdout",
     "output_type": "stream",
     "text": [
      "[1] 5 1 1 1\n"
     ]
    },
    {
     "name": "stderr",
     "output_type": "stream",
     "text": [
      "特征向量矩阵\n",
      "\n"
     ]
    },
    {
     "name": "stdout",
     "output_type": "stream",
     "text": [
      "     [,1]       [,2]       [,3]       [,4]\n",
      "[1,] -0.5  0.8660254  0.0000000  0.0000000\n",
      "[2,] -0.5 -0.2886751 -0.5773503 -0.5773503\n",
      "[3,] -0.5 -0.2886751 -0.2113249  0.7886751\n",
      "[4,] -0.5 -0.2886751  0.7886751 -0.2113249\n"
     ]
    }
   ],
   "source": [
    "A <- diag(4) + 1; A.e <- eigen(A);\n",
    "message(\"特征值向量\");       print(A.e$values)    # 提取出特征值向量\n",
    "message(\"特征向量矩阵\"); print(A.e$vectors)   # 提取出特征向量组成的矩阵"
   ]
  },
  {
   "cell_type": "markdown",
   "id": "40e6bf0a",
   "metadata": {},
   "source": [
    "- `dim()`返回一个矩阵的维数\n",
    "- `nrow()`返回行数\n",
    "    - `rowSums()`行和\n",
    "    - `rowMeans()`行平均\n",
    "- `ncol()`返回列数\n",
    "    - `colSums()`列和\n",
    "    - `colMeans()`列平均\n",
    "    \n",
    "另外还可用函数`apply()`实现\n",
    "```R\n",
    "apply(X,MARGIN,FUN,……)\n",
    "```\n",
    "- `X`为矩阵\n",
    "- `MARGIN`\n",
    "    - `MARGIN = 1`表示对行运算\n",
    "    - `MARGIN = 2`表示对列运算\n",
    "- `FUN`用来指定运算函数\n",
    "    - `……` 用来给定`FUN`中需要的其他参数。"
   ]
  },
  {
   "cell_type": "code",
   "execution_count": 121,
   "id": "aa793daf",
   "metadata": {},
   "outputs": [
    {
     "data": {
      "text/html": [
       "<table class=\"dataframe\">\n",
       "<caption>A matrix: 4 × 4 of type dbl</caption>\n",
       "<tbody>\n",
       "\t<tr><td>2</td><td>1</td><td>1</td><td>1</td></tr>\n",
       "\t<tr><td>1</td><td>2</td><td>1</td><td>1</td></tr>\n",
       "\t<tr><td>1</td><td>1</td><td>2</td><td>1</td></tr>\n",
       "\t<tr><td>1</td><td>1</td><td>1</td><td>2</td></tr>\n",
       "</tbody>\n",
       "</table>\n"
      ],
      "text/latex": [
       "A matrix: 4 × 4 of type dbl\n",
       "\\begin{tabular}{llll}\n",
       "\t 2 & 1 & 1 & 1\\\\\n",
       "\t 1 & 2 & 1 & 1\\\\\n",
       "\t 1 & 1 & 2 & 1\\\\\n",
       "\t 1 & 1 & 1 & 2\\\\\n",
       "\\end{tabular}\n"
      ],
      "text/markdown": [
       "\n",
       "A matrix: 4 × 4 of type dbl\n",
       "\n",
       "| 2 | 1 | 1 | 1 |\n",
       "| 1 | 2 | 1 | 1 |\n",
       "| 1 | 1 | 2 | 1 |\n",
       "| 1 | 1 | 1 | 2 |\n",
       "\n"
      ],
      "text/plain": [
       "     [,1] [,2] [,3] [,4]\n",
       "[1,] 2    1    1    1   \n",
       "[2,] 1    2    1    1   \n",
       "[3,] 1    1    2    1   \n",
       "[4,] 1    1    1    2   "
      ]
     },
     "metadata": {},
     "output_type": "display_data"
    },
    {
     "name": "stdout",
     "output_type": "stream",
     "text": [
      "[1] 5 5 5 5\n"
     ]
    }
   ],
   "source": [
    "A; print(apply(A, 1, sum))"
   ]
  },
  {
   "cell_type": "markdown",
   "id": "1d7b65cc",
   "metadata": {},
   "source": [
    "此外函数`apply()`功能强大，还可用它对矩阵的行或列进行其他运算，例如每一列的方差:"
   ]
  },
  {
   "cell_type": "code",
   "execution_count": 122,
   "id": "674c067a",
   "metadata": {},
   "outputs": [
    {
     "name": "stdout",
     "output_type": "stream",
     "text": [
      "[1] 0.25 0.25 0.25 0.25\n"
     ]
    }
   ],
   "source": [
    "print(apply(A, 1, var))"
   ]
  },
  {
   "cell_type": "code",
   "execution_count": 126,
   "id": "2e6eaa49",
   "metadata": {},
   "outputs": [
    {
     "data": {
      "text/html": [
       "<table class=\"dataframe\">\n",
       "<caption>A matrix: 4 × 4 of type dbl</caption>\n",
       "<tbody>\n",
       "\t<tr><td>2</td><td>1</td><td>1</td><td>1</td></tr>\n",
       "\t<tr><td>1</td><td>2</td><td>1</td><td>1</td></tr>\n",
       "\t<tr><td>1</td><td>1</td><td>2</td><td>1</td></tr>\n",
       "\t<tr><td>1</td><td>1</td><td>1</td><td>2</td></tr>\n",
       "</tbody>\n",
       "</table>\n"
      ],
      "text/latex": [
       "A matrix: 4 × 4 of type dbl\n",
       "\\begin{tabular}{llll}\n",
       "\t 2 & 1 & 1 & 1\\\\\n",
       "\t 1 & 2 & 1 & 1\\\\\n",
       "\t 1 & 1 & 2 & 1\\\\\n",
       "\t 1 & 1 & 1 & 2\\\\\n",
       "\\end{tabular}\n"
      ],
      "text/markdown": [
       "\n",
       "A matrix: 4 × 4 of type dbl\n",
       "\n",
       "| 2 | 1 | 1 | 1 |\n",
       "| 1 | 2 | 1 | 1 |\n",
       "| 1 | 1 | 2 | 1 |\n",
       "| 1 | 1 | 1 | 2 |\n",
       "\n"
      ],
      "text/plain": [
       "     [,1] [,2] [,3] [,4]\n",
       "[1,] 2    1    1    1   \n",
       "[2,] 1    2    1    1   \n",
       "[3,] 1    1    2    1   \n",
       "[4,] 1    1    1    2   "
      ]
     },
     "metadata": {},
     "output_type": "display_data"
    },
    {
     "name": "stdout",
     "output_type": "stream",
     "text": [
      "     [,1] [,2] [,3] [,4]\n",
      "[1,]    4    2    2    2\n",
      "[2,]    2    4    2    2\n",
      "[3,]    2    2    4    2\n",
      "[4,]    2    2    2    4\n"
     ]
    }
   ],
   "source": [
    "A\n",
    "print(\n",
    "    apply(A, 1, function(x, a) x * a, a = 2)\n",
    ")"
   ]
  },
  {
   "cell_type": "markdown",
   "id": "49eec354",
   "metadata": {},
   "source": [
    "## 数据框\n",
    "数据框（data frame）是一种矩阵形式的数据，数据框中各列可以是不同类型的数据。\n",
    "\n",
    "数据框是R语言特有的数据类型。\n",
    "R语言中生成数据框用函数\n",
    "```R\n",
    "data.frame(data1, data2, …)\n",
    "```"
   ]
  },
  {
   "cell_type": "code",
   "execution_count": 132,
   "id": "2fc1758a",
   "metadata": {},
   "outputs": [
    {
     "name": "stdout",
     "output_type": "stream",
     "text": [
      "   身高 体重\n",
      "1   171   57\n",
      "2   175   64\n",
      "3   159   41\n",
      "4   155   38\n",
      "5   152   35\n",
      "6   158   44\n",
      "7   154   41\n",
      "8   164   51\n",
      "9   168   57\n",
      "10  166   49\n",
      "11  159   47\n",
      "12  164   46\n"
     ]
    }
   ],
   "source": [
    "x1 <- c(171, 175, 159, 155, 152, 158, 154, 164, 168, 166, 159, 164)\n",
    "x2 <- c(57, 64, 41, 38, 35, 44, 41, 51, 57, 49, 47, 46)\n",
    "df = data.frame(\n",
    "    '身高' = x1,\n",
    "    '体重' = x2\n",
    "); print(df)"
   ]
  },
  {
   "cell_type": "markdown",
   "id": "fa74be36",
   "metadata": {},
   "source": [
    "## 多元数据的`R`调用\n",
    "`R`的内置数据包`dataset`提供了大量的数据，使用`R`的内置数据集很方便，通常只要给出数据集名即可。\n",
    "外部数据是`电子表格、数据库、文本文件`等形式。\n",
    "### 从剪切板读取\n",
    "`Excel`与`R`语言之间的数据交换过程：\n",
    "1. 选择需要进行计算的数据块（如本例`A1：F15`），拷贝之;\n",
    "2. 在`R`中使用`data <- read.table(\"clipboard\", header = T)`\n",
    "- `data`为读入的`R`中数据集\n",
    "- `clipboard`为剪切板\n",
    "- `header = T`意味着读入变量名。`F`表示不读变量名，即不读表头。\n",
    "\n",
    "### 从文件文本读取\n",
    "读入文本数据的命令是`read.table`，但它对外部文件有特定的格式要求：\n",
    "- 第一行可以有该数据框的各`变量名`;\n",
    "- 随后的行中条目是各个变量的`值`;\n",
    "将读取的`txt`文件放在`工作目录`下，查询工作目录使用函数`getwd()`。\n",
    "如果文件不在工作目录下，写绝对路径，或者更改工作目录到文件所在位置。\n",
    "\n",
    "###  从Excel文件读取\n",
    "一个`Excel`工作簿里有多个`数据表(sheet)`，`R`语言可以直接读取`Excel`数据。\n",
    "\n",
    "将`Excel`数据另存为`csv`格式，命令为：\n",
    "```R\n",
    "X = read.table(\"data.csv\")\n",
    "```\n",
    "这种方法一次只能读工作簿里的一个`Sheet`"
   ]
  }
 ],
 "metadata": {
  "kernelspec": {
   "display_name": "R",
   "language": "R",
   "name": "ir"
  },
  "language_info": {
   "codemirror_mode": "r",
   "file_extension": ".r",
   "mimetype": "text/x-r-source",
   "name": "R",
   "pygments_lexer": "r",
   "version": "4.1.2"
  }
 },
 "nbformat": 4,
 "nbformat_minor": 5
}
